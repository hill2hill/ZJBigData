{
 "cells": [
  {
   "cell_type": "code",
   "execution_count": 4,
   "metadata": {},
   "outputs": [
    {
     "name": "stderr",
     "output_type": "stream",
     "text": [
      "C:\\Users\\all4git\\Anaconda3\\lib\\site-packages\\h5py\\__init__.py:36: FutureWarning: Conversion of the second argument of issubdtype from `float` to `np.floating` is deprecated. In future, it will be treated as `np.float64 == np.dtype(float).type`.\n",
      "  from ._conv import register_converters as _register_converters\n"
     ]
    }
   ],
   "source": [
    "#-*- coding:utf-8 -*-\n",
    "import tensorflow as tf\n",
    "import numpy as np\n",
    "import pandas as pd\n",
    "import os \n",
    "from PIL import Image"
   ]
  },
  {
   "cell_type": "code",
   "execution_count": 6,
   "metadata": {},
   "outputs": [
    {
     "name": "stdout",
     "output_type": "stream",
     "text": [
      "Wall time: 47.9 ms\n"
     ]
    }
   ],
   "source": [
    "%%time\n",
    "path = 'D:\\\\code\\\\tianchi\\\\zhijiang\\\\0920\\\\dataset\\\\DatasetA_train_20180813\\\\DatasetA_train_20180813\\\\'\n",
    "train = pd.DataFrame(pd.read_table(path + 'train.txt',names = ['file_name','label_code'], encoding='utf-8',sep = '\\t'))\n",
    "train.head(1)"
   ]
  },
  {
   "cell_type": "code",
   "execution_count": 8,
   "metadata": {},
   "outputs": [
    {
     "name": "stdout",
     "output_type": "stream",
     "text": [
      "Wall time: 4.99 ms\n"
     ]
    }
   ],
   "source": [
    "%%time\n",
    "attributes = pd.DataFrame(pd.read_table(path + 'attributes_per_class.txt',\n",
    "                                        names = ['label_code','1','2','3','4','5','6','7','8','9','10',\n",
    "                                                '11','12','13','14','15','16','17','18','19','20',\n",
    "                                                '21','22','23','24','25','26','27','28','29','30'],\n",
    "                                        encoding='utf-8',sep = '\\t'))\n",
    "attributes.head(1)"
   ]
  },
  {
   "cell_type": "code",
   "execution_count": 3,
   "metadata": {},
   "outputs": [],
   "source": [
    "#文件路径\n",
    "image_dir = path + 'train\\\\'\n",
    "\n",
    "#存放图片个数\n",
    "#bestnum = 1000\n",
    "#第几个图片\n",
    "#num = 0\n",
    "#第几个TFRecord文件\n",
    "#recordfilenum = 0\n",
    "#类别\n",
    "# classes=['daisy',\n",
    "#          'dandelion',\n",
    "#          'roses',\n",
    "#          'sunflowers',\n",
    "#          'tulips']\n",
    "#tfrecords格式文件名\n",
    "ftrecord_filename = 'datasetA_train_RGB_plus_30dims'\n",
    "writer= tf.python_io.TFRecordWriter(path+ftrecord_filename)\n",
    "#类别和路径\n",
    "for line in range(train.shape[0]):\n",
    "#for line in range(5):\n",
    "#     print(index)\n",
    "#     print(name)\n",
    "#     class_path=cwd+name+'\\\\'\n",
    "#     for img_name in os.listdir(class_path): \n",
    "#         num=num+1\n",
    "#         if num>bestnum:\n",
    "#           num = 1\n",
    "#           recordfilenum = recordfilenum + 1\n",
    "#           #tfrecords格式文件名\n",
    "#           ftrecordfilename = (\"traindata.tfrecords-%.3d\" % recordfilenum)\n",
    "#           writer= tf.python_io.TFRecordWriter(filepath+ftrecordfilename)\n",
    "        #print('路径',class_path)\n",
    "        #print('第几个图片：',num)\n",
    "        #print('文件的个数',recordfilenum)\n",
    "        #print('图片名：',img_name)\n",
    "\n",
    "        img_path = image_dir + train.iloc[line,0] #每一个图片的地址\n",
    "        img=Image.open(img_path,'r')\n",
    "        size = img.size\n",
    "        img = img.resize((64, 64))\n",
    "        #print(size[1],size[0])\n",
    "        #print(size)\n",
    "        #print(img.mode)#RGB or L\n",
    "        \n",
    "        \n",
    "        if img.mode == 'RGB':\n",
    "            img_raw=img.tobytes()#将图片转化为二进制格式\n",
    "            index =train.iloc[line,1].split('ZJL')[1]\n",
    "            example = tf.train.Example(\n",
    "                 features=tf.train.Features(feature={\n",
    "                'label': tf.train.Feature(int64_list=tf.train.Int64List( value=[int(index)] )),\n",
    "                     \n",
    "                #'label_30dims': tf.train.Feature(int64_list=tf.train.Int64List( value=[int(index)] )),\n",
    "                     \n",
    "                'img_raw': tf.train.Feature(bytes_list=tf.train.BytesList(value=[img_raw])),\n",
    "                'img_width':tf.train.Feature(int64_list=tf.train.Int64List(value=[size[0]])),\n",
    "                'img_height':tf.train.Feature(int64_list=tf.train.Int64List(value=[size[1]]))\n",
    "            })) \n",
    "            writer.write(example.SerializeToString())  #序列化为字符串\n",
    "writer.close()"
   ]
  },
  {
   "cell_type": "code",
   "execution_count": null,
   "metadata": {},
   "outputs": [],
   "source": [
    "# def decode_images():\n",
    "#     for line in range(train_submit.shape[0]):\n",
    "#         #print(train_submit.iloc[line,0])\n",
    "#         image_path = train_submit.iloc[line,0]\n",
    "#         image_raw_data = tf.gfile.FastGFile(path +'train\\\\' + str(image_path),'rb').read()\n",
    "#         image = tf.image.decode_jpeg(image_raw_data) #图片解码\n",
    "#         #print(image)\n",
    "#         #train_submit.iloc[line,2] = image    \n",
    "#         if line == 0:\n",
    "#             images = tf.expand_dims(image,0) \n",
    "#         else:\n",
    "#             image = tf.expand_dims(image,0)\n",
    "#             images = tf.concat([images,image],0)\n",
    "#     return images\n",
    "# images = decode_images()   "
   ]
  },
  {
   "cell_type": "code",
   "execution_count": null,
   "metadata": {},
   "outputs": [],
   "source": [
    "# with tf.Session() as sess:\n",
    "#         #print(type(image_raw_data)) # bytes\n",
    "#         #print(type(img)) # Tensor\n",
    "#         #print(type(img.eval())) # ndarray !!!\n",
    "#         #print(img.eval().shape)\n",
    "#         #print(img.eval().dtype)\n",
    "#         print(sess.run(images).shape)"
   ]
  },
  {
   "cell_type": "code",
   "execution_count": null,
   "metadata": {},
   "outputs": [],
   "source": []
  },
  {
   "cell_type": "code",
   "execution_count": null,
   "metadata": {},
   "outputs": [],
   "source": [
    "#文件路径\n",
    "image_dir = path + 'train\\\\'\n",
    "\n",
    "#存放图片个数\n",
    "#bestnum = 1000\n",
    "#第几个图片\n",
    "#num = 0\n",
    "#第几个TFRecord文件\n",
    "#recordfilenum = 0\n",
    "#类别\n",
    "# classes=['daisy',\n",
    "#          'dandelion',\n",
    "#          'roses',\n",
    "#          'sunflowers',\n",
    "#          'tulips']\n",
    "#tfrecords格式文件名\n",
    "ftrecord_filename = 'datasetA_train'\n",
    "writer= tf.python_io.TFRecordWriter(path+ftrecord_filename)\n",
    "#类别和路径\n",
    "for line in range(100):\n",
    "#for line in range(5):\n",
    "#     print(index)\n",
    "#     print(name)\n",
    "#     class_path=cwd+name+'\\\\'\n",
    "#     for img_name in os.listdir(class_path): \n",
    "#         num=num+1\n",
    "#         if num>bestnum:\n",
    "#           num = 1\n",
    "#           recordfilenum = recordfilenum + 1\n",
    "#           #tfrecords格式文件名\n",
    "#           ftrecordfilename = (\"traindata.tfrecords-%.3d\" % recordfilenum)\n",
    "#           writer= tf.python_io.TFRecordWriter(filepath+ftrecordfilename)\n",
    "        #print('路径',class_path)\n",
    "        #print('第几个图片：',num)\n",
    "        #print('文件的个数',recordfilenum)\n",
    "        #print('图片名：',img_name)\n",
    "\n",
    "        img_path = image_dir + train.iloc[line,0] #每一个图片的地址\n",
    "        img=Image.open(img_path,'r')\n",
    "        size = img.size\n",
    "        #print(size[1],size[0])\n",
    "        #print(size)\n",
    "        #print(img.mode)\n",
    "        img_raw=img.tobytes()#将图片转化为二进制格式\n",
    "        index =train.iloc[line,1].split('ZJL')[1]\n",
    "        example = tf.train.Example(\n",
    "             features=tf.train.Features(feature={\n",
    "            'label': tf.train.Feature(int64_list=tf.train.Int64List( value=[int(index)] )),\n",
    "            'img_raw': tf.train.Feature(bytes_list=tf.train.BytesList(value=[img_raw])),\n",
    "            'img_width':tf.train.Feature(int64_list=tf.train.Int64List(value=[size[0]])),\n",
    "            'img_height':tf.train.Feature(int64_list=tf.train.Int64List(value=[size[1]]))\n",
    "        })) \n",
    "        writer.write(example.SerializeToString())  #序列化为字符串\n",
    "writer.close()"
   ]
  },
  {
   "cell_type": "code",
   "execution_count": null,
   "metadata": {},
   "outputs": [],
   "source": []
  }
 ],
 "metadata": {
  "kernelspec": {
   "display_name": "Python 3",
   "language": "python",
   "name": "python3"
  },
  "language_info": {
   "codemirror_mode": {
    "name": "ipython",
    "version": 3
   },
   "file_extension": ".py",
   "mimetype": "text/x-python",
   "name": "python",
   "nbconvert_exporter": "python",
   "pygments_lexer": "ipython3",
   "version": "3.6.4"
  }
 },
 "nbformat": 4,
 "nbformat_minor": 2
}
