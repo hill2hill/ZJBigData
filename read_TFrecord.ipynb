{
 "cells": [
  {
   "cell_type": "code",
   "execution_count": 1,
   "metadata": {},
   "outputs": [
    {
     "name": "stderr",
     "output_type": "stream",
     "text": [
      "C:\\Users\\all4git\\Anaconda3\\lib\\site-packages\\h5py\\__init__.py:36: FutureWarning: Conversion of the second argument of issubdtype from `float` to `np.floating` is deprecated. In future, it will be treated as `np.float64 == np.dtype(float).type`.\n",
      "  from ._conv import register_converters as _register_converters\n"
     ]
    }
   ],
   "source": [
    "#-*- coding:utf-8 -*-\n",
    "import tensorflow as tf\n",
    "import numpy as np\n",
    "import pandas as pd\n",
    "import os \n",
    "from PIL import Image"
   ]
  },
  {
   "cell_type": "code",
   "execution_count": 2,
   "metadata": {},
   "outputs": [],
   "source": [
    "def read_and_decode(filename):\n",
    "    #根据文件名生成一个队列\n",
    "    filename_queue = tf.train.string_input_producer([filename])\n",
    "\n",
    "    reader = tf.TFRecordReader()\n",
    "    _, serialized_example = reader.read(filename_queue)   #返回文件名和文件\n",
    "    features = tf.parse_single_example(serialized_example,\n",
    "                                       features={\n",
    "                                           'label': tf.FixedLenFeature([], tf.int64),\n",
    "                                           'img_raw' : tf.FixedLenFeature([], tf.string),\n",
    "                                       })\n",
    "    try:\n",
    "        img = tf.decode_raw(features['img_raw'], tf.uint8)\n",
    "        img = tf.reshape(img, [ 64, 64, 3])\n",
    "        #img = tf.cast(img, tf.float32) * (1. / 255) - 0.5\n",
    "        label = tf.cast(features['label'], tf.int32)\n",
    "\n",
    "        return img, label\n",
    "    except:\n",
    "        print('This is a 8 bit picture')"
   ]
  },
  {
   "cell_type": "code",
   "execution_count": 3,
   "metadata": {},
   "outputs": [],
   "source": [
    "path = 'D:\\\\code\\\\tianchi\\\\zhijiang\\\\0920\\\\dataset\\\\DatasetA_train_20180813\\\\DatasetA_train_20180813\\\\'\n",
    "img, label = read_and_decode(path + 'datasetA_train_RGB')"
   ]
  },
  {
   "cell_type": "code",
   "execution_count": 4,
   "metadata": {},
   "outputs": [
    {
     "data": {
      "text/plain": [
       "(<tf.Tensor 'Reshape:0' shape=(64, 64, 3) dtype=uint8>,\n",
       " <tf.Tensor 'Cast:0' shape=() dtype=int32>)"
      ]
     },
     "execution_count": 4,
     "metadata": {},
     "output_type": "execute_result"
    }
   ],
   "source": [
    "img,label"
   ]
  },
  {
   "cell_type": "code",
   "execution_count": 5,
   "metadata": {},
   "outputs": [],
   "source": [
    "img_batch, label_batch = tf.train.shuffle_batch([img, label],\n",
    "                                                batch_size=10, capacity=5000,\n",
    "                                                min_after_dequeue=2000)"
   ]
  },
  {
   "cell_type": "code",
   "execution_count": 8,
   "metadata": {},
   "outputs": [
    {
     "name": "stdout",
     "output_type": "stream",
     "text": [
      "[101 102 107 100 104 100 104 106 107 103]\n",
      "[103   1 107 105 103 105 105   1 107 103]\n",
      "[102 100 104 104  10 100 107 100 104 108]\n",
      "[105 102 102 104 107   1 107 104 104 104]\n",
      "[102 103 103 100 103  10 100 108 102 103]\n",
      "[ 10 101 104  10 107 107 104 105  10 103]\n",
      "[103 103 103 102   1 102 107 106 104 108]\n",
      "[107 100 105 101 102 104 100 107 104 103]\n",
      "[ 10 104 102 106 103  10 106 106 107 107]\n",
      "[ 10 105  10 101 106 105 107 104 101 102]\n",
      "[101  10 105 102 106 103   1 102 107 106]\n",
      "[104 106 104 100   1   1 105 103 101 106]\n",
      "[106 103 104 105   1 104 105  10 105 101]\n",
      "[103 108   1 104 102 107 105 107  10 107]\n",
      "[  1 108 108 100 107 109 104 101 107 101]\n",
      "[100 107  10 103 100 103 103 104 108 101]\n",
      "[  1 100 100 104 102 106   1  10 105 105]\n",
      "[106 101 104 104 105 100 102 103 104 106]\n",
      "[106 102  10 107 108 100 103 104 106 106]\n",
      "[103 100 109 104 103 103 106   1 101 108]\n",
      "[105 100 108 102 100 100   1   1 101 108]\n",
      "[ 10 106 103 108 102 104 105 109  10 104]\n",
      "[105 103 102 108 106 100 109   1 103 101]\n",
      "[105 101  10 104  10 102 108  10  10 105]\n",
      "[101   1 101 106 109 105 104 101  10   1]\n",
      "[100 108 107 104 103 105 109 102 101 102]\n",
      "[108   1 108 101 108 107 109 108 102 107]\n",
      "[  1 104 101 105 109  10 105 106 104   1]\n",
      "[104 101  10 108 105  10   1 102 103 104]\n",
      "[101 104  10 106 104   1 108 108 101 100]\n",
      "[  1 104 102 105 101   1 102 107 102 100]\n",
      "[103   1 102 106 106 107 108 104 107 102]\n",
      "[100   1 106 103 101 102 105 106 106 109]\n",
      "[ 10 100 102 106 103 107 108 105  10 101]\n",
      "[106 109 107 100 106 104 100 107  10 100]\n",
      "[108 108   1 103 103 104  10 100 104 103]\n",
      "[106 104 108 102 108 106 108 101  10 106]\n",
      "[104 109   1 105 103 109 103  10   1  10]\n",
      "[108   1 105 101 102 102 106 109  11  10]\n",
      "[104 106  10 103  10 107  10 105   1 105]\n",
      "[106 109  10 109 105 106  11 105 109 107]\n",
      "[ 11 107 102 108 108 109 108 102 107 106]\n",
      "[ 10 100 102 103 109 109 103 102   1 102]\n",
      "[105  10 102 103 103 102 101  11 105 109]\n",
      "[ 10 109 103 103 101 105 105  11 104 103]\n",
      "[104   1 105 100 109 108 100 107 101 105]\n",
      "[103 102 109 101 100 103 100  10 106 108]\n",
      "[ 11  11 107  11   1  10 107   1  11 109]\n",
      "[  1 107 108 103 100  10  10 106 109 109]\n",
      "[ 11 103  11  11 109 102 106 107 104 109]\n",
      "[106 109 103 101 105 108  11 105 100  10]\n",
      "[100  11   1  10  10   1 105   1 107 105]\n",
      "[107 105 101 109 102 102 100 104   1 106]\n",
      "[ 10  10 101 108  10  11   1 102 104 107]\n",
      "[105 108 109 106 101 104 104 108   1 105]\n",
      "[106 100 104 110 109 102 108 108 102 104]\n",
      "[109 104 106 105 100 107 104 107 100   1]\n",
      "[ 10 105 108 105 100 103 108 109 109 105]\n",
      "[109 100 103 107 100 107  11 103 102 105]\n",
      "[101 108 101 110 108 110 106  11 109 107]\n",
      "[108  11 109 103 107 105 106 106 101 109]\n",
      "[105 100 107 100 109 107 100 108 108 100]\n",
      "[102  10 102  11 110 104 103 103 100 108]\n",
      "[ 11 104  11   1 101 109 110   1 109 108]\n",
      "[  1 103 104   1 101 102 104 103   1 109]\n",
      "[104 101 108  10 109 104 105 104   1   1]\n",
      "[101 109  11  11  11 101 105 104  11 109]\n",
      "[109 103 107 102 102 101 105 100 104 108]\n",
      "[103 109  11 102 104 108 106 101 103 106]\n",
      "[101 107 106   1 110 102 108 108 101  11]\n",
      "[ 11 104 103 102 105  11 110 108 101 100]\n",
      "[101 102 105  10 101  10  11 105 103 103]\n",
      "[110 108  10 105  11  10  10 100  11 107]\n",
      "[108 101 107   1 107   1 107 100  11 101]\n",
      "[109  11 100 109 104 103 105 100   1 110]\n",
      "[110 102 111 109  10   1 108 106  11 104]\n",
      "[101 103 107  11  10 109  11   1 110 108]\n",
      "[107 108 101 110 110 110 101 100 102 109]\n",
      "[101 101 104 107 101 102 107 108 101 110]\n",
      "[106 100 109 106 103 104 106   1 103 109]\n",
      "[  1 103 107 106  11 111  11 101 100 109]\n",
      "[110   1 102   1 111 111 103  11 105 103]\n",
      "[106 106 108  11   1 108  11  11 109 111]\n",
      "[105 105 110 107 110  11 105 107 109 100]\n",
      "[109 109 104 100 101 104 106 111 104   1]\n",
      "[101 101  10  11  11 107 104 107 104 106]\n",
      "[103 109 110 103   1 104   1 107 103  11]\n",
      "[106 110 110 109 108 106  11 109 106 111]\n",
      "[111 100 109 102 111 106 103 108 111 108]\n",
      "[  1 110  10   1  11   1 110 108 107 108]\n",
      "[107 111 107   1 111 110 106 106 109 106]\n",
      "[ 11 102 109 110 106 111  10 111 104 106]\n",
      "[101 101 103 109 111 103 110 105 110 100]\n",
      "[111 102 107   1 108 100 109 109 104 108]\n",
      "[ 11  11 107 108  10 105 109 110 108 104]\n",
      "[102  10 101 105 106 101 108 105 109 111]\n",
      "[  1 102 106  10 110 104 111 104 113 109]\n",
      "[101 102 110 104 103   1 111 103 109  11]\n",
      "[111 101  11 101   1 113   1 102   1 104]\n",
      "[107 101 111 104  11 102 113 106 108 111]\n",
      "INFO:tensorflow:Error reported to Coordinator: <class 'tensorflow.python.framework.errors_impl.CancelledError'>, Run call was cancelled\n"
     ]
    }
   ],
   "source": [
    "with tf.Session() as sess:\n",
    "    sess.run(tf.global_variables_initializer())\n",
    "    coord = tf.train.Coordinator()\n",
    "    threads = tf.train.start_queue_runners(coord = coord)\n",
    "    \n",
    "    for _ in range(100):\n",
    "        val,a = sess.run([img_batch,label_batch])\n",
    "        #print(val)\n",
    "        print(a)\n",
    "    #print(sess.run(label))"
   ]
  },
  {
   "cell_type": "code",
   "execution_count": null,
   "metadata": {},
   "outputs": [],
   "source": []
  },
  {
   "cell_type": "code",
   "execution_count": null,
   "metadata": {},
   "outputs": [],
   "source": []
  }
 ],
 "metadata": {
  "kernelspec": {
   "display_name": "Python 3",
   "language": "python",
   "name": "python3"
  },
  "language_info": {
   "codemirror_mode": {
    "name": "ipython",
    "version": 3
   },
   "file_extension": ".py",
   "mimetype": "text/x-python",
   "name": "python",
   "nbconvert_exporter": "python",
   "pygments_lexer": "ipython3",
   "version": "3.6.4"
  }
 },
 "nbformat": 4,
 "nbformat_minor": 2
}
